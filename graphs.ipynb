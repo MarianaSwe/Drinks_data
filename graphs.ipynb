{
 "cells": [
  {
   "cell_type": "code",
   "execution_count": 68,
   "metadata": {},
   "outputs": [],
   "source": [
    "# pull in data to merge files"
   ]
  },
  {
   "cell_type": "code",
   "execution_count": 69,
   "metadata": {},
   "outputs": [],
   "source": [
    "#import packages we need\n",
    "import pandas as pd\n",
    "import numpy as np\n",
    "import json\n",
    "import subprocess\n",
    "from thefuzz import fuzz\n",
    "from thefuzz import process\n",
    "import ast\n",
    "\n"
   ]
  },
  {
   "cell_type": "code",
   "execution_count": 70,
   "metadata": {},
   "outputs": [],
   "source": [
    "vivino_data = pd.read_csv('vivino_data.csv')\n",
    "full_wine = pd.read_csv('full_wine.csv')\n",
    "\n"
   ]
  },
  {
   "cell_type": "code",
   "execution_count": 71,
   "metadata": {},
   "outputs": [],
   "source": [
    "all_wine= full_wine.merge(vivino_data, left_on = 'productId_ArtId', right_on = 'productId', how='outer' )\n"
   ]
  },
  {
   "cell_type": "markdown",
   "metadata": {},
   "source": [
    "# Pull out additional wines to analyse\n"
   ]
  },
  {
   "cell_type": "code",
   "execution_count": 72,
   "metadata": {},
   "outputs": [
    {
     "data": {
      "text/plain": [
       "assortmentText\n",
       "available on order        2572\n",
       "temporary stock            489\n",
       "regular in-store stock     403\n",
       "Lokalt & Småskaligt         21\n",
       "seasonal stock               1\n",
       "Name: count, dtype: int64"
      ]
     },
     "execution_count": 72,
     "metadata": {},
     "output_type": "execute_result"
    }
   ],
   "source": [
    "all_wine.assortmentText.value_counts()"
   ]
  },
  {
   "cell_type": "markdown",
   "metadata": {},
   "source": [
    "# make 3 more groups to pull data from"
   ]
  },
  {
   "cell_type": "code",
   "execution_count": 73,
   "metadata": {},
   "outputs": [],
   "source": [
    "white_new_group= all_wine[(all_wine['assortmentText'] == 'regular in-store stock') & (all_wine['vivino_average_rating'].isna()) & (all_wine['Product_Group_Details'] == 'White Wine')] \n",
    "red_new_group= all_wine[(all_wine['assortmentText'] == 'regular in-store stock') & (all_wine['vivino_average_rating'].isna()) & (all_wine['Product_Group_Details'] == 'Red Wine')] \n",
    "sparkling_new_group= all_wine[(all_wine['assortmentText'] == 'regular in-store stock') & (all_wine['vivino_average_rating'].isna()) & (all_wine['Product_Group_Details'] == 'Sparkling Wine')] "
   ]
  },
  {
   "cell_type": "code",
   "execution_count": 75,
   "metadata": {},
   "outputs": [],
   "source": [
    "\n",
    "\n",
    "# Define the command to run the Node.js script\n",
    "def retrieve_wine_matches(wine_name):\n",
    "\n",
    "    command = [\n",
    "        \"node\",\n",
    "        \"C:/Users/maria/OneDrive/Documents_old/CodeOpDocs/Milestones/Group_Project/Vivino_api/vivino-api/vivino.js\",\n",
    "        f\"--name='{wine_name}'\"\n",
    "        ]\n",
    "\n",
    "    try:\n",
    "        result = subprocess.run(command, capture_output=True, text=True, check=True)\n",
    "        print(\"Node.js script output:\", result.stdout)\n",
    "\n",
    "        # Parse the output JSON file\n",
    "        with open(\"C:/Users/maria/OneDrive/Documents_old/CodeOpDocs/Milestones/Group_Project/Drinks_data/vivino-out.json\", \"r\", encoding=\"utf-8\", errors=\"ignore\") as f:\n",
    "            data = json.load(f)\n",
    "            return data['vinos']\n",
    "\n",
    "    except subprocess.CalledProcessError:\n",
    "        data = np.nan\n",
    "        return data"
   ]
  },
  {
   "cell_type": "code",
   "execution_count": null,
   "metadata": {},
   "outputs": [],
   "source": [
    "\n",
    "\n",
    "# Define the command to run the Node.js script\n",
    "def retrieve_wine_matches(wine_name):\n",
    "\n",
    "    command = [\n",
    "        \"node\",\n",
    "        \"C:/Users/maria/OneDrive/Documents_old/CodeOpDocs/Milestones/Group_Project/Vivino_api/vivino-api/vivino.js\",\n",
    "        f\"--name='{wine_name}'\"\n",
    "        ]\n",
    "\n",
    "    try:\n",
    "        result = subprocess.run(command, capture_output=True, text=True, check=True)\n",
    "        print(\"Node.js script output:\", result.stdout)\n",
    "\n",
    "        # Parse the output JSON file\n",
    "        with open(\"C:/Users/maria/OneDrive/Documents_old/CodeOpDocs/Milestones/Group_Project/Drinks_data/vivino-out.json\", \"r\", encoding=\"utf-8\", errors=\"ignore\") as f:\n",
    "            data = json.load(f)\n",
    "            return data['vinos']\n",
    "\n",
    "    except subprocess.CalledProcessError:\n",
    "        data = np.nan\n",
    "        return data"
   ]
  },
  {
   "cell_type": "code",
   "execution_count": 76,
   "metadata": {},
   "outputs": [
    {
     "name": "stdout",
     "output_type": "stream",
     "text": [
      "Node.js script output: { _: [], name: \u001b[32m\"'Bollinger Special CuvÃ©e Brut'\"\u001b[39m }\n",
      "Results were collected from the page: \u001b[33m1\u001b[39m\n",
      "Finish!\n",
      "\n",
      "Node.js script output: { _: [], name: \u001b[32m\"'CuvÃ©e Sir Winston Churchill'\"\u001b[39m }\n",
      "Results were collected from the page: \u001b[33m1\u001b[39m\n",
      "Results were collected from the page: \u001b[33m2\u001b[39m\n",
      "Results were collected from the page: \u001b[33m3\u001b[39m\n",
      "Results were collected from the page: \u001b[33m4\u001b[39m\n",
      "Results were collected from the page: \u001b[33m5\u001b[39m\n",
      "Results were collected from the page: \u001b[33m6\u001b[39m\n",
      "Results were collected from the page: \u001b[33m7\u001b[39m\n",
      "Results were collected from the page: \u001b[33m8\u001b[39m\n",
      "Results were collected from the page: \u001b[33m9\u001b[39m\n",
      "Results were collected from the page: \u001b[33m10\u001b[39m\n",
      "Results were collected from the page: \u001b[33m11\u001b[39m\n",
      "Results were collected from the page: \u001b[33m12\u001b[39m\n",
      "Results were collected from the page: \u001b[33m13\u001b[39m\n",
      "Results were collected from the page: \u001b[33m14\u001b[39m\n",
      "Results were collected from the page: \u001b[33m15\u001b[39m\n",
      "Results were collected from the page: \u001b[33m16\u001b[39m\n",
      "Results were collected from the page: \u001b[33m17\u001b[39m\n",
      "Results were collected from the page: \u001b[33m18\u001b[39m\n",
      "Results were collected from the page: \u001b[33m19\u001b[39m\n",
      "Results were collected from the page: \u001b[33m20\u001b[39m\n",
      "Results were collected from the page: \u001b[33m21\u001b[39m\n",
      "Results were collected from the page: \u001b[33m22\u001b[39m\n",
      "Results were collected from the page: \u001b[33m23\u001b[39m\n",
      "Results were collected from the page: \u001b[33m24\u001b[39m\n",
      "Results were collected from the page: \u001b[33m25\u001b[39m\n",
      "Results were collected from the page: \u001b[33m26\u001b[39m\n",
      "Results were collected from the page: \u001b[33m27\u001b[39m\n",
      "Results were collected from the page: \u001b[33m28\u001b[39m\n",
      "Results were collected from the page: \u001b[33m29\u001b[39m\n",
      "Results were collected from the page: \u001b[33m30\u001b[39m\n",
      "Results were collected from the page: \u001b[33m31\u001b[39m\n",
      "Results were collected from the page: \u001b[33m32\u001b[39m\n",
      "Results were collected from the page: \u001b[33m33\u001b[39m\n",
      "Results were collected from the page: \u001b[33m34\u001b[39m\n",
      "Results were collected from the page: \u001b[33m35\u001b[39m\n",
      "Results were collected from the page: \u001b[33m36\u001b[39m\n",
      "Results were collected from the page: \u001b[33m37\u001b[39m\n",
      "Results were collected from the page: \u001b[33m38\u001b[39m\n",
      "Results were collected from the page: \u001b[33m39\u001b[39m\n",
      "Results were collected from the page: \u001b[33m40\u001b[39m\n",
      "Results were collected from the page: \u001b[33m41\u001b[39m\n",
      "Results were collected from the page: \u001b[33m42\u001b[39m\n",
      "Results were collected from the page: \u001b[33m43\u001b[39m\n",
      "Results were collected from the page: \u001b[33m44\u001b[39m\n",
      "Results were collected from the page: \u001b[33m45\u001b[39m\n",
      "Results were collected from the page: \u001b[33m46\u001b[39m\n",
      "Results were collected from the page: \u001b[33m47\u001b[39m\n",
      "Exception: Error: Evaluation failed: TypeError: Cannot read property 'textContent' of null\n",
      "    at __puppeteer_evaluation_script__:25:53\n",
      "    at Array.map (<anonymous>)\n",
      "    at __puppeteer_evaluation_script__:19:63\n",
      "    at ExecutionContext._evaluateInternal (C:\\Users\\maria\\OneDrive\\Documents_old\\CodeOpDocs\\Milestones\\Group_Project\\Vivino_api\\vivino-api\\node_modules\\\u001b[4mpuppeteer\u001b[24m\\lib\\cjs\\puppeteer\\common\\ExecutionContext.js:217:19)\n",
      "\u001b[90m    at process.processTicksAndRejections (node:internal/process/task_queues:105:5)\u001b[39m\n",
      "    at async ExecutionContext.evaluate (C:\\Users\\maria\\OneDrive\\Documents_old\\CodeOpDocs\\Milestones\\Group_Project\\Vivino_api\\vivino-api\\node_modules\\\u001b[4mpuppeteer\u001b[24m\\lib\\cjs\\puppeteer\\common\\ExecutionContext.js:106:16)\n",
      "    at async run (file:///C:/Users/maria/OneDrive/Documents_old/CodeOpDocs/Milestones/Group_Project/Vivino_api/vivino-api/vivino.js:201:23)\n",
      "Finish!\n",
      "\n"
     ]
    }
   ],
   "source": [
    "# use the \"retrieve_wine_matches\" Function to find wines and put them into a column called 'wine matches'\n",
    "sparkling_new_group['wine_matches'] = sparkling_new_group['Name'].apply(retrieve_wine_matches)\n",
    "\n",
    "sparkling_new_group.to_csv(\"sparkling_new.csv\", index=False, sep=',')"
   ]
  },
  {
   "cell_type": "code",
   "execution_count": null,
   "metadata": {},
   "outputs": [],
   "source": []
  }
 ],
 "metadata": {
  "kernelspec": {
   "display_name": "Python 3",
   "language": "python",
   "name": "python3"
  },
  "language_info": {
   "codemirror_mode": {
    "name": "ipython",
    "version": 3
   },
   "file_extension": ".py",
   "mimetype": "text/x-python",
   "name": "python",
   "nbconvert_exporter": "python",
   "pygments_lexer": "ipython3",
   "version": "3.12.7"
  }
 },
 "nbformat": 4,
 "nbformat_minor": 2
}
